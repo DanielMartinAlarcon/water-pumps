{
 "cells": [
  {
   "cell_type": "code",
   "execution_count": 1,
   "metadata": {},
   "outputs": [
    {
     "name": "stdout",
     "output_type": "stream",
     "text": [
      "Importing Jupyter notebook from data_cleanup.ipynb\n"
     ]
    }
   ],
   "source": [
    "import pandas as pd\n",
    "import numpy as np\n",
    "import matplotlib.pyplot as plt\n",
    "import seaborn as sns\n",
    "pd.set_option('display.max_columns', None)  # Unlimited columns\n",
    "import nbimporter\n",
    "# Imported from my other notebook\n",
    "from data_cleanup import cleanup1\n",
    "from data_cleanup import cleanup2\n",
    "from data_cleanup import cleanup3"
   ]
  },
  {
   "cell_type": "code",
   "execution_count": 162,
   "metadata": {},
   "outputs": [],
   "source": [
    "from sklearn.feature_selection import SelectKBest, f_classif\n",
    "from sklearn.model_selection import GridSearchCV\n",
    "from sklearn.preprocessing import StandardScaler\n",
    "from sklearn.preprocessing import RobustScaler\n",
    "from sklearn.preprocessing import OneHotEncoder\n",
    "from sklearn.linear_model import LogisticRegression\n",
    "from sklearn.pipeline import make_pipeline\n",
    "from sklearn_pandas import DataFrameMapper\n",
    "from sklearn.metrics import accuracy_score\n",
    "from category_encoders.target_encoder import TargetEncoder\n",
    "from sklearn.ensemble import RandomForestClassifier"
   ]
  },
  {
   "cell_type": "code",
   "execution_count": 127,
   "metadata": {},
   "outputs": [],
   "source": [
    "# Import all data\n",
    "sample_submission = pd.read_csv('original_data/sample_submission.csv')\n",
    "test_features = pd.read_csv('original_data/test_features.csv')\n",
    "train_features = pd.read_csv('original_data/train_features.csv')\n",
    "train_labels = pd.read_csv('original_data/train_labels.csv')"
   ]
  },
  {
   "cell_type": "code",
   "execution_count": 3,
   "metadata": {},
   "outputs": [],
   "source": [
    "# Clean data with previously defined cleanup function\n",
    "X_train = cleanup3(cleanup2(cleanup1(train_features)))\n",
    "X_test = cleanup3(cleanup2(cleanup1(test_features)))"
   ]
  },
  {
   "cell_type": "code",
   "execution_count": 128,
   "metadata": {},
   "outputs": [],
   "source": [
    "y_true = train_labels['status_group']\n",
    "y_works = [1.0 if x == 'functional' else 0.0 for x in y_true]\n",
    "y_broken = [1.0 if x == 'non functional' else 0.0 for x in y_true]\n",
    "y_repair = [1.0 if x == 'functional needs repair' else 0.0 for x in y_true]"
   ]
  },
  {
   "cell_type": "markdown",
   "metadata": {},
   "source": [
    "# OHE + Logistic Regression\n",
    "I'll start by one-hot encoding all the categorical variables and running a simple logistic regression.  Many of the features have way too much cardinality for one-hot encoding.  Let's separate them into two lists by cardinality."
   ]
  },
  {
   "cell_type": "code",
   "execution_count": 115,
   "metadata": {},
   "outputs": [],
   "source": [
    "# Define groups of columns in X_train\n",
    "numericals = ['amount_tsh',\n",
    "                    'date_recorded',\n",
    "                    'gps_height',\n",
    "                    'longitude',\n",
    "                    'latitude',\n",
    "                    'num_private',\n",
    "                    'population',\n",
    "                    'construction_year']\n",
    "\n",
    "alt_numericals = ['amount_tsh',\n",
    "                    'date_recorded',\n",
    "                    'gps_height',\n",
    "#                     'longitude',\n",
    "#                     'latitude',\n",
    "                    'num_private',\n",
    "                    'population',\n",
    "                    'construction_year']\n",
    "\n",
    "categoricals = ['funder',\n",
    "                     'installer',\n",
    "                     'wpt_name',\n",
    "                     'basin',\n",
    "                     'subvillage',\n",
    "                     'region',\n",
    "                     'region_code',\n",
    "                     'district_code',\n",
    "                     'lga',\n",
    "                     'ward',\n",
    "                     'public_meeting',\n",
    "                     'scheme_management',\n",
    "                     'scheme_name',\n",
    "                     'permit',\n",
    "                     'extraction_type',\n",
    "                     'extraction_type_group',\n",
    "                     'extraction_type_class',\n",
    "                     'management',\n",
    "                     'management_group',\n",
    "                     'payment',\n",
    "                     'payment_type',\n",
    "                     'water_quality',\n",
    "                     'quality_group',\n",
    "                     'quantity',\n",
    "                     'quantity_group',\n",
    "                     'source',\n",
    "                     'source_type',\n",
    "                     'source_class',\n",
    "                     'waterpoint_type',\n",
    "                     'waterpoint_type_group']\n",
    "\n",
    "trash_cols = ['amount_tsh_trash',\n",
    "                     'construction_year_trash',\n",
    "                     'gps_height_trash',\n",
    "                     'latitude_trash',\n",
    "                     'longitude_trash',\n",
    "                     'num_private_trash',\n",
    "                     'population_trash']"
   ]
  },
  {
   "cell_type": "code",
   "execution_count": 142,
   "metadata": {},
   "outputs": [],
   "source": [
    "# # OHE that works\n",
    "X_train_cats = X_train[categoricals]\n",
    "# OHE = OneHotEncoder()\n",
    "# X_train_cats_expanded = OHE.fit_transform(X_train_cats)\n",
    "# X_train_cats_expanded"
   ]
  },
  {
   "cell_type": "code",
   "execution_count": 159,
   "metadata": {},
   "outputs": [
    {
     "data": {
      "text/plain": [
       "<59400x630 sparse matrix of type '<class 'numpy.float64'>'\n",
       "\twith 2197800 stored elements in Compressed Sparse Row format>"
      ]
     },
     "execution_count": 159,
     "metadata": {},
     "output_type": "execute_result"
    }
   ],
   "source": [
    "X_train_cats_expanded"
   ]
  },
  {
   "cell_type": "code",
   "execution_count": 150,
   "metadata": {},
   "outputs": [],
   "source": [
    "target_encoder = TargetEncoder()\n",
    "X_TE1 = target_encoder.fit_transform(X=X_train_cats, y=y_works)\n",
    "target_encoder = TargetEncoder()\n",
    "X_TE2 = target_encoder.fit_transform(X=X_train_cats, y=y_broken)\n",
    "target_encoder = TargetEncoder()\n",
    "X_TE3 = target_encoder.fit_transform(X=X_train_cats, y=y_repair)"
   ]
  },
  {
   "cell_type": "code",
   "execution_count": 151,
   "metadata": {},
   "outputs": [
    {
     "data": {
      "text/html": [
       "<div>\n",
       "<style scoped>\n",
       "    .dataframe tbody tr th:only-of-type {\n",
       "        vertical-align: middle;\n",
       "    }\n",
       "\n",
       "    .dataframe tbody tr th {\n",
       "        vertical-align: top;\n",
       "    }\n",
       "\n",
       "    .dataframe thead th {\n",
       "        text-align: right;\n",
       "    }\n",
       "</style>\n",
       "<table border=\"1\" class=\"dataframe\">\n",
       "  <thead>\n",
       "    <tr style=\"text-align: right;\">\n",
       "      <th></th>\n",
       "      <th>funder</th>\n",
       "      <th>installer</th>\n",
       "      <th>wpt_name</th>\n",
       "      <th>basin</th>\n",
       "      <th>subvillage</th>\n",
       "      <th>region</th>\n",
       "      <th>region_code</th>\n",
       "      <th>district_code</th>\n",
       "      <th>lga</th>\n",
       "      <th>ward</th>\n",
       "      <th>public_meeting</th>\n",
       "      <th>scheme_management</th>\n",
       "      <th>scheme_name</th>\n",
       "      <th>permit</th>\n",
       "      <th>extraction_type</th>\n",
       "      <th>extraction_type_group</th>\n",
       "      <th>extraction_type_class</th>\n",
       "      <th>management</th>\n",
       "      <th>management_group</th>\n",
       "      <th>payment</th>\n",
       "      <th>payment_type</th>\n",
       "      <th>water_quality</th>\n",
       "      <th>quality_group</th>\n",
       "      <th>quantity</th>\n",
       "      <th>quantity_group</th>\n",
       "      <th>source</th>\n",
       "      <th>source_type</th>\n",
       "      <th>source_class</th>\n",
       "      <th>waterpoint_type</th>\n",
       "      <th>waterpoint_type_group</th>\n",
       "    </tr>\n",
       "  </thead>\n",
       "  <tbody>\n",
       "    <tr>\n",
       "      <th>0</th>\n",
       "      <td>0.821818</td>\n",
       "      <td>0.563818</td>\n",
       "      <td>0.546613</td>\n",
       "      <td>0.653687</td>\n",
       "      <td>0.546040</td>\n",
       "      <td>0.782206</td>\n",
       "      <td>0.781698</td>\n",
       "      <td>0.569100</td>\n",
       "      <td>0.774823</td>\n",
       "      <td>0.520431</td>\n",
       "      <td>0.556899</td>\n",
       "      <td>0.515315</td>\n",
       "      <td>0.884892</td>\n",
       "      <td>0.517094</td>\n",
       "      <td>0.599253</td>\n",
       "      <td>0.599253</td>\n",
       "      <td>0.599253</td>\n",
       "      <td>0.504234</td>\n",
       "      <td>0.538236</td>\n",
       "      <td>0.752334</td>\n",
       "      <td>0.752334</td>\n",
       "      <td>0.565941</td>\n",
       "      <td>0.565941</td>\n",
       "      <td>0.652323</td>\n",
       "      <td>0.652323</td>\n",
       "      <td>0.622290</td>\n",
       "      <td>0.622290</td>\n",
       "      <td>0.542320</td>\n",
       "      <td>0.621485</td>\n",
       "      <td>0.576491</td>\n",
       "    </tr>\n",
       "    <tr>\n",
       "      <th>1</th>\n",
       "      <td>0.582615</td>\n",
       "      <td>0.563818</td>\n",
       "      <td>0.518072</td>\n",
       "      <td>0.497658</td>\n",
       "      <td>0.546040</td>\n",
       "      <td>0.449975</td>\n",
       "      <td>0.449975</td>\n",
       "      <td>0.555178</td>\n",
       "      <td>0.592179</td>\n",
       "      <td>0.520431</td>\n",
       "      <td>0.503299</td>\n",
       "      <td>0.498234</td>\n",
       "      <td>0.534426</td>\n",
       "      <td>0.554437</td>\n",
       "      <td>0.599253</td>\n",
       "      <td>0.599253</td>\n",
       "      <td>0.599253</td>\n",
       "      <td>0.599540</td>\n",
       "      <td>0.538236</td>\n",
       "      <td>0.448911</td>\n",
       "      <td>0.448911</td>\n",
       "      <td>0.565941</td>\n",
       "      <td>0.565941</td>\n",
       "      <td>0.523234</td>\n",
       "      <td>0.523234</td>\n",
       "      <td>0.603922</td>\n",
       "      <td>0.603922</td>\n",
       "      <td>0.545168</td>\n",
       "      <td>0.621485</td>\n",
       "      <td>0.576491</td>\n",
       "    </tr>\n",
       "    <tr>\n",
       "      <th>2</th>\n",
       "      <td>0.582615</td>\n",
       "      <td>0.625179</td>\n",
       "      <td>0.546613</td>\n",
       "      <td>0.600895</td>\n",
       "      <td>0.466135</td>\n",
       "      <td>0.623500</td>\n",
       "      <td>0.623500</td>\n",
       "      <td>0.621736</td>\n",
       "      <td>0.581169</td>\n",
       "      <td>0.520431</td>\n",
       "      <td>0.556899</td>\n",
       "      <td>0.515315</td>\n",
       "      <td>0.534426</td>\n",
       "      <td>0.554437</td>\n",
       "      <td>0.599253</td>\n",
       "      <td>0.599253</td>\n",
       "      <td>0.599253</td>\n",
       "      <td>0.504234</td>\n",
       "      <td>0.538236</td>\n",
       "      <td>0.677796</td>\n",
       "      <td>0.677796</td>\n",
       "      <td>0.565941</td>\n",
       "      <td>0.565941</td>\n",
       "      <td>0.652323</td>\n",
       "      <td>0.652323</td>\n",
       "      <td>0.385671</td>\n",
       "      <td>0.385671</td>\n",
       "      <td>0.545168</td>\n",
       "      <td>0.366213</td>\n",
       "      <td>0.576491</td>\n",
       "    </tr>\n",
       "    <tr>\n",
       "      <th>3</th>\n",
       "      <td>0.567644</td>\n",
       "      <td>0.534188</td>\n",
       "      <td>0.546613</td>\n",
       "      <td>0.371689</td>\n",
       "      <td>0.546040</td>\n",
       "      <td>0.302890</td>\n",
       "      <td>0.211559</td>\n",
       "      <td>0.317949</td>\n",
       "      <td>0.265823</td>\n",
       "      <td>0.520431</td>\n",
       "      <td>0.556899</td>\n",
       "      <td>0.515315</td>\n",
       "      <td>0.534426</td>\n",
       "      <td>0.554437</td>\n",
       "      <td>0.551217</td>\n",
       "      <td>0.538760</td>\n",
       "      <td>0.538760</td>\n",
       "      <td>0.504234</td>\n",
       "      <td>0.538236</td>\n",
       "      <td>0.448911</td>\n",
       "      <td>0.448911</td>\n",
       "      <td>0.565941</td>\n",
       "      <td>0.565941</td>\n",
       "      <td>0.025136</td>\n",
       "      <td>0.025136</td>\n",
       "      <td>0.489571</td>\n",
       "      <td>0.495355</td>\n",
       "      <td>0.542320</td>\n",
       "      <td>0.366213</td>\n",
       "      <td>0.576491</td>\n",
       "    </tr>\n",
       "    <tr>\n",
       "      <th>4</th>\n",
       "      <td>0.582615</td>\n",
       "      <td>0.555556</td>\n",
       "      <td>0.491419</td>\n",
       "      <td>0.497658</td>\n",
       "      <td>0.546040</td>\n",
       "      <td>0.520808</td>\n",
       "      <td>0.520156</td>\n",
       "      <td>0.537409</td>\n",
       "      <td>0.530480</td>\n",
       "      <td>0.520431</td>\n",
       "      <td>0.556899</td>\n",
       "      <td>0.498234</td>\n",
       "      <td>0.534426</td>\n",
       "      <td>0.554437</td>\n",
       "      <td>0.599253</td>\n",
       "      <td>0.599253</td>\n",
       "      <td>0.599253</td>\n",
       "      <td>0.504425</td>\n",
       "      <td>0.500000</td>\n",
       "      <td>0.448911</td>\n",
       "      <td>0.448911</td>\n",
       "      <td>0.565941</td>\n",
       "      <td>0.565941</td>\n",
       "      <td>0.574074</td>\n",
       "      <td>0.574074</td>\n",
       "      <td>0.603922</td>\n",
       "      <td>0.603922</td>\n",
       "      <td>0.545168</td>\n",
       "      <td>0.621485</td>\n",
       "      <td>0.576491</td>\n",
       "    </tr>\n",
       "  </tbody>\n",
       "</table>\n",
       "</div>"
      ],
      "text/plain": [
       "     funder  installer  wpt_name     basin  subvillage    region  region_code  \\\n",
       "0  0.821818   0.563818  0.546613  0.653687    0.546040  0.782206     0.781698   \n",
       "1  0.582615   0.563818  0.518072  0.497658    0.546040  0.449975     0.449975   \n",
       "2  0.582615   0.625179  0.546613  0.600895    0.466135  0.623500     0.623500   \n",
       "3  0.567644   0.534188  0.546613  0.371689    0.546040  0.302890     0.211559   \n",
       "4  0.582615   0.555556  0.491419  0.497658    0.546040  0.520808     0.520156   \n",
       "\n",
       "   district_code       lga      ward  public_meeting  scheme_management  \\\n",
       "0       0.569100  0.774823  0.520431        0.556899           0.515315   \n",
       "1       0.555178  0.592179  0.520431        0.503299           0.498234   \n",
       "2       0.621736  0.581169  0.520431        0.556899           0.515315   \n",
       "3       0.317949  0.265823  0.520431        0.556899           0.515315   \n",
       "4       0.537409  0.530480  0.520431        0.556899           0.498234   \n",
       "\n",
       "   scheme_name    permit  extraction_type  extraction_type_group  \\\n",
       "0     0.884892  0.517094         0.599253               0.599253   \n",
       "1     0.534426  0.554437         0.599253               0.599253   \n",
       "2     0.534426  0.554437         0.599253               0.599253   \n",
       "3     0.534426  0.554437         0.551217               0.538760   \n",
       "4     0.534426  0.554437         0.599253               0.599253   \n",
       "\n",
       "   extraction_type_class  management  management_group   payment  \\\n",
       "0               0.599253    0.504234          0.538236  0.752334   \n",
       "1               0.599253    0.599540          0.538236  0.448911   \n",
       "2               0.599253    0.504234          0.538236  0.677796   \n",
       "3               0.538760    0.504234          0.538236  0.448911   \n",
       "4               0.599253    0.504425          0.500000  0.448911   \n",
       "\n",
       "   payment_type  water_quality  quality_group  quantity  quantity_group  \\\n",
       "0      0.752334       0.565941       0.565941  0.652323        0.652323   \n",
       "1      0.448911       0.565941       0.565941  0.523234        0.523234   \n",
       "2      0.677796       0.565941       0.565941  0.652323        0.652323   \n",
       "3      0.448911       0.565941       0.565941  0.025136        0.025136   \n",
       "4      0.448911       0.565941       0.565941  0.574074        0.574074   \n",
       "\n",
       "     source  source_type  source_class  waterpoint_type  waterpoint_type_group  \n",
       "0  0.622290     0.622290      0.542320         0.621485               0.576491  \n",
       "1  0.603922     0.603922      0.545168         0.621485               0.576491  \n",
       "2  0.385671     0.385671      0.545168         0.366213               0.576491  \n",
       "3  0.489571     0.495355      0.542320         0.366213               0.576491  \n",
       "4  0.603922     0.603922      0.545168         0.621485               0.576491  "
      ]
     },
     "execution_count": 151,
     "metadata": {},
     "output_type": "execute_result"
    }
   ],
   "source": [
    "X_TE1.head()"
   ]
  },
  {
   "cell_type": "code",
   "execution_count": 152,
   "metadata": {},
   "outputs": [
    {
     "data": {
      "text/html": [
       "<div>\n",
       "<style scoped>\n",
       "    .dataframe tbody tr th:only-of-type {\n",
       "        vertical-align: middle;\n",
       "    }\n",
       "\n",
       "    .dataframe tbody tr th {\n",
       "        vertical-align: top;\n",
       "    }\n",
       "\n",
       "    .dataframe thead th {\n",
       "        text-align: right;\n",
       "    }\n",
       "</style>\n",
       "<table border=\"1\" class=\"dataframe\">\n",
       "  <thead>\n",
       "    <tr style=\"text-align: right;\">\n",
       "      <th></th>\n",
       "      <th>funder</th>\n",
       "      <th>installer</th>\n",
       "      <th>wpt_name</th>\n",
       "      <th>basin</th>\n",
       "      <th>subvillage</th>\n",
       "      <th>region</th>\n",
       "      <th>region_code</th>\n",
       "      <th>district_code</th>\n",
       "      <th>lga</th>\n",
       "      <th>ward</th>\n",
       "      <th>public_meeting</th>\n",
       "      <th>scheme_management</th>\n",
       "      <th>scheme_name</th>\n",
       "      <th>permit</th>\n",
       "      <th>extraction_type</th>\n",
       "      <th>extraction_type_group</th>\n",
       "      <th>extraction_type_class</th>\n",
       "      <th>management</th>\n",
       "      <th>management_group</th>\n",
       "      <th>payment</th>\n",
       "      <th>payment_type</th>\n",
       "      <th>water_quality</th>\n",
       "      <th>quality_group</th>\n",
       "      <th>quantity</th>\n",
       "      <th>quantity_group</th>\n",
       "      <th>source</th>\n",
       "      <th>source_type</th>\n",
       "      <th>source_class</th>\n",
       "      <th>waterpoint_type</th>\n",
       "      <th>waterpoint_type_group</th>\n",
       "    </tr>\n",
       "  </thead>\n",
       "  <tbody>\n",
       "    <tr>\n",
       "      <th>0</th>\n",
       "      <td>0.145455</td>\n",
       "      <td>0.363274</td>\n",
       "      <td>0.382219</td>\n",
       "      <td>0.297148</td>\n",
       "      <td>0.381613</td>\n",
       "      <td>0.194560</td>\n",
       "      <td>0.195094</td>\n",
       "      <td>0.386364</td>\n",
       "      <td>0.205674</td>\n",
       "      <td>0.408258</td>\n",
       "      <td>0.370195</td>\n",
       "      <td>0.421249</td>\n",
       "      <td>0.086331</td>\n",
       "      <td>0.407443</td>\n",
       "      <td>0.299888</td>\n",
       "      <td>0.299888</td>\n",
       "      <td>0.299888</td>\n",
       "      <td>0.426864</td>\n",
       "      <td>0.387350</td>\n",
       "      <td>0.179846</td>\n",
       "      <td>0.179846</td>\n",
       "      <td>0.357236</td>\n",
       "      <td>0.357236</td>\n",
       "      <td>0.275357</td>\n",
       "      <td>0.275357</td>\n",
       "      <td>0.302744</td>\n",
       "      <td>0.302744</td>\n",
       "      <td>0.397825</td>\n",
       "      <td>0.299278</td>\n",
       "      <td>0.339523</td>\n",
       "    </tr>\n",
       "    <tr>\n",
       "      <th>1</th>\n",
       "      <td>0.343075</td>\n",
       "      <td>0.363274</td>\n",
       "      <td>0.387952</td>\n",
       "      <td>0.405835</td>\n",
       "      <td>0.381613</td>\n",
       "      <td>0.519553</td>\n",
       "      <td>0.519553</td>\n",
       "      <td>0.369283</td>\n",
       "      <td>0.370112</td>\n",
       "      <td>0.408258</td>\n",
       "      <td>0.449910</td>\n",
       "      <td>0.449616</td>\n",
       "      <td>0.393655</td>\n",
       "      <td>0.376145</td>\n",
       "      <td>0.299888</td>\n",
       "      <td>0.299888</td>\n",
       "      <td>0.299888</td>\n",
       "      <td>0.301458</td>\n",
       "      <td>0.387350</td>\n",
       "      <td>0.475856</td>\n",
       "      <td>0.475856</td>\n",
       "      <td>0.357236</td>\n",
       "      <td>0.357236</td>\n",
       "      <td>0.380924</td>\n",
       "      <td>0.380924</td>\n",
       "      <td>0.259259</td>\n",
       "      <td>0.259259</td>\n",
       "      <td>0.336960</td>\n",
       "      <td>0.299278</td>\n",
       "      <td>0.339523</td>\n",
       "    </tr>\n",
       "    <tr>\n",
       "      <th>2</th>\n",
       "      <td>0.343075</td>\n",
       "      <td>0.247496</td>\n",
       "      <td>0.382219</td>\n",
       "      <td>0.345749</td>\n",
       "      <td>0.462151</td>\n",
       "      <td>0.315856</td>\n",
       "      <td>0.315856</td>\n",
       "      <td>0.321702</td>\n",
       "      <td>0.402597</td>\n",
       "      <td>0.408258</td>\n",
       "      <td>0.370195</td>\n",
       "      <td>0.421249</td>\n",
       "      <td>0.393655</td>\n",
       "      <td>0.376145</td>\n",
       "      <td>0.299888</td>\n",
       "      <td>0.299888</td>\n",
       "      <td>0.299888</td>\n",
       "      <td>0.426864</td>\n",
       "      <td>0.387350</td>\n",
       "      <td>0.276683</td>\n",
       "      <td>0.276683</td>\n",
       "      <td>0.357236</td>\n",
       "      <td>0.357236</td>\n",
       "      <td>0.275357</td>\n",
       "      <td>0.275357</td>\n",
       "      <td>0.577744</td>\n",
       "      <td>0.577744</td>\n",
       "      <td>0.336960</td>\n",
       "      <td>0.527609</td>\n",
       "      <td>0.339523</td>\n",
       "    </tr>\n",
       "    <tr>\n",
       "      <th>3</th>\n",
       "      <td>0.338694</td>\n",
       "      <td>0.427350</td>\n",
       "      <td>0.382219</td>\n",
       "      <td>0.555753</td>\n",
       "      <td>0.381613</td>\n",
       "      <td>0.624277</td>\n",
       "      <td>0.681570</td>\n",
       "      <td>0.656410</td>\n",
       "      <td>0.734177</td>\n",
       "      <td>0.408258</td>\n",
       "      <td>0.370195</td>\n",
       "      <td>0.421249</td>\n",
       "      <td>0.393655</td>\n",
       "      <td>0.376145</td>\n",
       "      <td>0.401134</td>\n",
       "      <td>0.420295</td>\n",
       "      <td>0.420295</td>\n",
       "      <td>0.426864</td>\n",
       "      <td>0.387350</td>\n",
       "      <td>0.475856</td>\n",
       "      <td>0.475856</td>\n",
       "      <td>0.357236</td>\n",
       "      <td>0.357236</td>\n",
       "      <td>0.968940</td>\n",
       "      <td>0.968940</td>\n",
       "      <td>0.466095</td>\n",
       "      <td>0.462131</td>\n",
       "      <td>0.397825</td>\n",
       "      <td>0.527609</td>\n",
       "      <td>0.339523</td>\n",
       "    </tr>\n",
       "    <tr>\n",
       "      <th>4</th>\n",
       "      <td>0.343075</td>\n",
       "      <td>0.400000</td>\n",
       "      <td>0.426773</td>\n",
       "      <td>0.405835</td>\n",
       "      <td>0.381613</td>\n",
       "      <td>0.387515</td>\n",
       "      <td>0.388387</td>\n",
       "      <td>0.357125</td>\n",
       "      <td>0.411154</td>\n",
       "      <td>0.408258</td>\n",
       "      <td>0.370195</td>\n",
       "      <td>0.449616</td>\n",
       "      <td>0.393655</td>\n",
       "      <td>0.376145</td>\n",
       "      <td>0.299888</td>\n",
       "      <td>0.299888</td>\n",
       "      <td>0.299888</td>\n",
       "      <td>0.439317</td>\n",
       "      <td>0.444814</td>\n",
       "      <td>0.475856</td>\n",
       "      <td>0.475856</td>\n",
       "      <td>0.357236</td>\n",
       "      <td>0.357236</td>\n",
       "      <td>0.323210</td>\n",
       "      <td>0.323210</td>\n",
       "      <td>0.259259</td>\n",
       "      <td>0.259259</td>\n",
       "      <td>0.336960</td>\n",
       "      <td>0.299278</td>\n",
       "      <td>0.339523</td>\n",
       "    </tr>\n",
       "  </tbody>\n",
       "</table>\n",
       "</div>"
      ],
      "text/plain": [
       "     funder  installer  wpt_name     basin  subvillage    region  region_code  \\\n",
       "0  0.145455   0.363274  0.382219  0.297148    0.381613  0.194560     0.195094   \n",
       "1  0.343075   0.363274  0.387952  0.405835    0.381613  0.519553     0.519553   \n",
       "2  0.343075   0.247496  0.382219  0.345749    0.462151  0.315856     0.315856   \n",
       "3  0.338694   0.427350  0.382219  0.555753    0.381613  0.624277     0.681570   \n",
       "4  0.343075   0.400000  0.426773  0.405835    0.381613  0.387515     0.388387   \n",
       "\n",
       "   district_code       lga      ward  public_meeting  scheme_management  \\\n",
       "0       0.386364  0.205674  0.408258        0.370195           0.421249   \n",
       "1       0.369283  0.370112  0.408258        0.449910           0.449616   \n",
       "2       0.321702  0.402597  0.408258        0.370195           0.421249   \n",
       "3       0.656410  0.734177  0.408258        0.370195           0.421249   \n",
       "4       0.357125  0.411154  0.408258        0.370195           0.449616   \n",
       "\n",
       "   scheme_name    permit  extraction_type  extraction_type_group  \\\n",
       "0     0.086331  0.407443         0.299888               0.299888   \n",
       "1     0.393655  0.376145         0.299888               0.299888   \n",
       "2     0.393655  0.376145         0.299888               0.299888   \n",
       "3     0.393655  0.376145         0.401134               0.420295   \n",
       "4     0.393655  0.376145         0.299888               0.299888   \n",
       "\n",
       "   extraction_type_class  management  management_group   payment  \\\n",
       "0               0.299888    0.426864          0.387350  0.179846   \n",
       "1               0.299888    0.301458          0.387350  0.475856   \n",
       "2               0.299888    0.426864          0.387350  0.276683   \n",
       "3               0.420295    0.426864          0.387350  0.475856   \n",
       "4               0.299888    0.439317          0.444814  0.475856   \n",
       "\n",
       "   payment_type  water_quality  quality_group  quantity  quantity_group  \\\n",
       "0      0.179846       0.357236       0.357236  0.275357        0.275357   \n",
       "1      0.475856       0.357236       0.357236  0.380924        0.380924   \n",
       "2      0.276683       0.357236       0.357236  0.275357        0.275357   \n",
       "3      0.475856       0.357236       0.357236  0.968940        0.968940   \n",
       "4      0.475856       0.357236       0.357236  0.323210        0.323210   \n",
       "\n",
       "     source  source_type  source_class  waterpoint_type  waterpoint_type_group  \n",
       "0  0.302744     0.302744      0.397825         0.299278               0.339523  \n",
       "1  0.259259     0.259259      0.336960         0.299278               0.339523  \n",
       "2  0.577744     0.577744      0.336960         0.527609               0.339523  \n",
       "3  0.466095     0.462131      0.397825         0.527609               0.339523  \n",
       "4  0.259259     0.259259      0.336960         0.299278               0.339523  "
      ]
     },
     "execution_count": 152,
     "metadata": {},
     "output_type": "execute_result"
    }
   ],
   "source": [
    "X_TE2.head()"
   ]
  },
  {
   "cell_type": "code",
   "execution_count": 153,
   "metadata": {
    "scrolled": true
   },
   "outputs": [
    {
     "data": {
      "text/html": [
       "<div>\n",
       "<style scoped>\n",
       "    .dataframe tbody tr th:only-of-type {\n",
       "        vertical-align: middle;\n",
       "    }\n",
       "\n",
       "    .dataframe tbody tr th {\n",
       "        vertical-align: top;\n",
       "    }\n",
       "\n",
       "    .dataframe thead th {\n",
       "        text-align: right;\n",
       "    }\n",
       "</style>\n",
       "<table border=\"1\" class=\"dataframe\">\n",
       "  <thead>\n",
       "    <tr style=\"text-align: right;\">\n",
       "      <th></th>\n",
       "      <th>funder</th>\n",
       "      <th>installer</th>\n",
       "      <th>wpt_name</th>\n",
       "      <th>basin</th>\n",
       "      <th>subvillage</th>\n",
       "      <th>region</th>\n",
       "      <th>region_code</th>\n",
       "      <th>district_code</th>\n",
       "      <th>lga</th>\n",
       "      <th>ward</th>\n",
       "      <th>public_meeting</th>\n",
       "      <th>scheme_management</th>\n",
       "      <th>scheme_name</th>\n",
       "      <th>permit</th>\n",
       "      <th>extraction_type</th>\n",
       "      <th>extraction_type_group</th>\n",
       "      <th>extraction_type_class</th>\n",
       "      <th>management</th>\n",
       "      <th>management_group</th>\n",
       "      <th>payment</th>\n",
       "      <th>payment_type</th>\n",
       "      <th>water_quality</th>\n",
       "      <th>quality_group</th>\n",
       "      <th>quantity</th>\n",
       "      <th>quantity_group</th>\n",
       "      <th>source</th>\n",
       "      <th>source_type</th>\n",
       "      <th>source_class</th>\n",
       "      <th>waterpoint_type</th>\n",
       "      <th>waterpoint_type_group</th>\n",
       "    </tr>\n",
       "  </thead>\n",
       "  <tbody>\n",
       "    <tr>\n",
       "      <th>0</th>\n",
       "      <td>0.032727</td>\n",
       "      <td>0.072908</td>\n",
       "      <td>0.071167</td>\n",
       "      <td>0.049164</td>\n",
       "      <td>0.072347</td>\n",
       "      <td>0.023234</td>\n",
       "      <td>0.023208</td>\n",
       "      <td>0.044536</td>\n",
       "      <td>0.019504</td>\n",
       "      <td>0.07131</td>\n",
       "      <td>0.072906</td>\n",
       "      <td>0.063436</td>\n",
       "      <td>0.028777</td>\n",
       "      <td>0.075463</td>\n",
       "      <td>0.100859</td>\n",
       "      <td>0.100859</td>\n",
       "      <td>0.100859</td>\n",
       "      <td>0.068902</td>\n",
       "      <td>0.074414</td>\n",
       "      <td>0.067820</td>\n",
       "      <td>0.067820</td>\n",
       "      <td>0.076823</td>\n",
       "      <td>0.076823</td>\n",
       "      <td>0.072320</td>\n",
       "      <td>0.072320</td>\n",
       "      <td>0.074966</td>\n",
       "      <td>0.074966</td>\n",
       "      <td>0.059855</td>\n",
       "      <td>0.079237</td>\n",
       "      <td>0.083986</td>\n",
       "    </tr>\n",
       "    <tr>\n",
       "      <th>1</th>\n",
       "      <td>0.074310</td>\n",
       "      <td>0.072908</td>\n",
       "      <td>0.093976</td>\n",
       "      <td>0.096507</td>\n",
       "      <td>0.072347</td>\n",
       "      <td>0.030472</td>\n",
       "      <td>0.030472</td>\n",
       "      <td>0.075539</td>\n",
       "      <td>0.037709</td>\n",
       "      <td>0.07131</td>\n",
       "      <td>0.046791</td>\n",
       "      <td>0.052150</td>\n",
       "      <td>0.071919</td>\n",
       "      <td>0.069417</td>\n",
       "      <td>0.100859</td>\n",
       "      <td>0.100859</td>\n",
       "      <td>0.100859</td>\n",
       "      <td>0.099002</td>\n",
       "      <td>0.074414</td>\n",
       "      <td>0.075233</td>\n",
       "      <td>0.075233</td>\n",
       "      <td>0.076823</td>\n",
       "      <td>0.076823</td>\n",
       "      <td>0.095842</td>\n",
       "      <td>0.095842</td>\n",
       "      <td>0.136819</td>\n",
       "      <td>0.136819</td>\n",
       "      <td>0.117872</td>\n",
       "      <td>0.079237</td>\n",
       "      <td>0.083986</td>\n",
       "    </tr>\n",
       "    <tr>\n",
       "      <th>2</th>\n",
       "      <td>0.074310</td>\n",
       "      <td>0.127325</td>\n",
       "      <td>0.071167</td>\n",
       "      <td>0.053356</td>\n",
       "      <td>0.071713</td>\n",
       "      <td>0.060644</td>\n",
       "      <td>0.060644</td>\n",
       "      <td>0.056562</td>\n",
       "      <td>0.016234</td>\n",
       "      <td>0.07131</td>\n",
       "      <td>0.072906</td>\n",
       "      <td>0.063436</td>\n",
       "      <td>0.071919</td>\n",
       "      <td>0.069417</td>\n",
       "      <td>0.100859</td>\n",
       "      <td>0.100859</td>\n",
       "      <td>0.100859</td>\n",
       "      <td>0.068902</td>\n",
       "      <td>0.074414</td>\n",
       "      <td>0.045520</td>\n",
       "      <td>0.045520</td>\n",
       "      <td>0.076823</td>\n",
       "      <td>0.076823</td>\n",
       "      <td>0.072320</td>\n",
       "      <td>0.072320</td>\n",
       "      <td>0.036585</td>\n",
       "      <td>0.036585</td>\n",
       "      <td>0.117872</td>\n",
       "      <td>0.106177</td>\n",
       "      <td>0.083986</td>\n",
       "    </tr>\n",
       "    <tr>\n",
       "      <th>3</th>\n",
       "      <td>0.093661</td>\n",
       "      <td>0.038462</td>\n",
       "      <td>0.071167</td>\n",
       "      <td>0.072557</td>\n",
       "      <td>0.072347</td>\n",
       "      <td>0.072832</td>\n",
       "      <td>0.106870</td>\n",
       "      <td>0.025641</td>\n",
       "      <td>0.000000</td>\n",
       "      <td>0.07131</td>\n",
       "      <td>0.072906</td>\n",
       "      <td>0.063436</td>\n",
       "      <td>0.071919</td>\n",
       "      <td>0.069417</td>\n",
       "      <td>0.047649</td>\n",
       "      <td>0.040945</td>\n",
       "      <td>0.040945</td>\n",
       "      <td>0.068902</td>\n",
       "      <td>0.074414</td>\n",
       "      <td>0.075233</td>\n",
       "      <td>0.075233</td>\n",
       "      <td>0.076823</td>\n",
       "      <td>0.076823</td>\n",
       "      <td>0.005924</td>\n",
       "      <td>0.005924</td>\n",
       "      <td>0.044334</td>\n",
       "      <td>0.042514</td>\n",
       "      <td>0.059855</td>\n",
       "      <td>0.106177</td>\n",
       "      <td>0.083986</td>\n",
       "    </tr>\n",
       "    <tr>\n",
       "      <th>4</th>\n",
       "      <td>0.074310</td>\n",
       "      <td>0.044444</td>\n",
       "      <td>0.081808</td>\n",
       "      <td>0.096507</td>\n",
       "      <td>0.072347</td>\n",
       "      <td>0.091677</td>\n",
       "      <td>0.091456</td>\n",
       "      <td>0.105466</td>\n",
       "      <td>0.058366</td>\n",
       "      <td>0.07131</td>\n",
       "      <td>0.072906</td>\n",
       "      <td>0.052150</td>\n",
       "      <td>0.071919</td>\n",
       "      <td>0.069417</td>\n",
       "      <td>0.100859</td>\n",
       "      <td>0.100859</td>\n",
       "      <td>0.100859</td>\n",
       "      <td>0.056258</td>\n",
       "      <td>0.055186</td>\n",
       "      <td>0.075233</td>\n",
       "      <td>0.075233</td>\n",
       "      <td>0.076823</td>\n",
       "      <td>0.076823</td>\n",
       "      <td>0.102716</td>\n",
       "      <td>0.102716</td>\n",
       "      <td>0.136819</td>\n",
       "      <td>0.136819</td>\n",
       "      <td>0.117872</td>\n",
       "      <td>0.079237</td>\n",
       "      <td>0.083986</td>\n",
       "    </tr>\n",
       "  </tbody>\n",
       "</table>\n",
       "</div>"
      ],
      "text/plain": [
       "     funder  installer  wpt_name     basin  subvillage    region  region_code  \\\n",
       "0  0.032727   0.072908  0.071167  0.049164    0.072347  0.023234     0.023208   \n",
       "1  0.074310   0.072908  0.093976  0.096507    0.072347  0.030472     0.030472   \n",
       "2  0.074310   0.127325  0.071167  0.053356    0.071713  0.060644     0.060644   \n",
       "3  0.093661   0.038462  0.071167  0.072557    0.072347  0.072832     0.106870   \n",
       "4  0.074310   0.044444  0.081808  0.096507    0.072347  0.091677     0.091456   \n",
       "\n",
       "   district_code       lga     ward  public_meeting  scheme_management  \\\n",
       "0       0.044536  0.019504  0.07131        0.072906           0.063436   \n",
       "1       0.075539  0.037709  0.07131        0.046791           0.052150   \n",
       "2       0.056562  0.016234  0.07131        0.072906           0.063436   \n",
       "3       0.025641  0.000000  0.07131        0.072906           0.063436   \n",
       "4       0.105466  0.058366  0.07131        0.072906           0.052150   \n",
       "\n",
       "   scheme_name    permit  extraction_type  extraction_type_group  \\\n",
       "0     0.028777  0.075463         0.100859               0.100859   \n",
       "1     0.071919  0.069417         0.100859               0.100859   \n",
       "2     0.071919  0.069417         0.100859               0.100859   \n",
       "3     0.071919  0.069417         0.047649               0.040945   \n",
       "4     0.071919  0.069417         0.100859               0.100859   \n",
       "\n",
       "   extraction_type_class  management  management_group   payment  \\\n",
       "0               0.100859    0.068902          0.074414  0.067820   \n",
       "1               0.100859    0.099002          0.074414  0.075233   \n",
       "2               0.100859    0.068902          0.074414  0.045520   \n",
       "3               0.040945    0.068902          0.074414  0.075233   \n",
       "4               0.100859    0.056258          0.055186  0.075233   \n",
       "\n",
       "   payment_type  water_quality  quality_group  quantity  quantity_group  \\\n",
       "0      0.067820       0.076823       0.076823  0.072320        0.072320   \n",
       "1      0.075233       0.076823       0.076823  0.095842        0.095842   \n",
       "2      0.045520       0.076823       0.076823  0.072320        0.072320   \n",
       "3      0.075233       0.076823       0.076823  0.005924        0.005924   \n",
       "4      0.075233       0.076823       0.076823  0.102716        0.102716   \n",
       "\n",
       "     source  source_type  source_class  waterpoint_type  waterpoint_type_group  \n",
       "0  0.074966     0.074966      0.059855         0.079237               0.083986  \n",
       "1  0.136819     0.136819      0.117872         0.079237               0.083986  \n",
       "2  0.036585     0.036585      0.117872         0.106177               0.083986  \n",
       "3  0.044334     0.042514      0.059855         0.106177               0.083986  \n",
       "4  0.136819     0.136819      0.117872         0.079237               0.083986  "
      ]
     },
     "execution_count": 153,
     "metadata": {},
     "output_type": "execute_result"
    }
   ],
   "source": [
    "X_TE3.head()"
   ]
  },
  {
   "cell_type": "code",
   "execution_count": 155,
   "metadata": {},
   "outputs": [],
   "source": [
    "X_TE_all = pd.concat([X_TE1,X_TE2,X_TE3], sort=False, axis=1)"
   ]
  },
  {
   "cell_type": "code",
   "execution_count": null,
   "metadata": {},
   "outputs": [],
   "source": [
    "X_TE_nums = pd.concat([X_TE_all, X_train[numericals]], sort=False, axis=1)"
   ]
  },
  {
   "cell_type": "code",
   "execution_count": 156,
   "metadata": {},
   "outputs": [
    {
     "data": {
      "text/plain": [
       "(59400, 90)"
      ]
     },
     "execution_count": 156,
     "metadata": {},
     "output_type": "execute_result"
    }
   ],
   "source": [
    "X_TE_all.shape"
   ]
  },
  {
   "cell_type": "code",
   "execution_count": 160,
   "metadata": {},
   "outputs": [
    {
     "name": "stderr",
     "output_type": "stream",
     "text": [
      "/anaconda3/envs/sandbox/lib/python3.6/site-packages/sklearn/linear_model/logistic.py:758: ConvergenceWarning: lbfgs failed to converge. Increase the number of iterations.\n",
      "  \"of iterations.\", ConvergenceWarning)\n",
      "/anaconda3/envs/sandbox/lib/python3.6/site-packages/sklearn/linear_model/logistic.py:758: ConvergenceWarning: lbfgs failed to converge. Increase the number of iterations.\n",
      "  \"of iterations.\", ConvergenceWarning)\n"
     ]
    },
    {
     "data": {
      "text/plain": [
       "LogisticRegression(C=1.0, class_weight=None, dual=False, fit_intercept=True,\n",
       "          intercept_scaling=1, max_iter=500, multi_class='ovr',\n",
       "          n_jobs=None, penalty='l2', random_state=None, solver='lbfgs',\n",
       "          tol=0.0001, verbose=0, warm_start=False)"
      ]
     },
     "execution_count": 160,
     "metadata": {},
     "output_type": "execute_result"
    }
   ],
   "source": [
    "logreg = LogisticRegression(solver='lbfgs', multi_class='ovr', max_iter=500)\n",
    "logreg.fit(X_train_cats_expanded, y_true)"
   ]
  },
  {
   "cell_type": "code",
   "execution_count": 161,
   "metadata": {},
   "outputs": [
    {
     "data": {
      "text/plain": [
       "0.7607912457912458"
      ]
     },
     "execution_count": 161,
     "metadata": {},
     "output_type": "execute_result"
    }
   ],
   "source": [
    "y_pred = logreg.predict(X_train_cats_expanded)\n",
    "accuracy_score(y_true, y_pred)"
   ]
  },
  {
   "cell_type": "code",
   "execution_count": 158,
   "metadata": {},
   "outputs": [
    {
     "data": {
      "text/plain": [
       "0.7311784511784511"
      ]
     },
     "execution_count": 158,
     "metadata": {},
     "output_type": "execute_result"
    }
   ],
   "source": [
    "y_pred = logreg.predict(X_TE_all)\n",
    "accuracy_score(y_true, y_pred)"
   ]
  },
  {
   "cell_type": "markdown",
   "metadata": {},
   "source": [
    "# RFC + OHE"
   ]
  },
  {
   "cell_type": "code",
   "execution_count": 166,
   "metadata": {},
   "outputs": [
    {
     "name": "stderr",
     "output_type": "stream",
     "text": [
      "/anaconda3/envs/sandbox/lib/python3.6/site-packages/sklearn/ensemble/forest.py:246: FutureWarning: The default value of n_estimators will change from 10 in version 0.20 to 100 in 0.22.\n",
      "  \"10 in version 0.20 to 100 in 0.22.\", FutureWarning)\n"
     ]
    },
    {
     "data": {
      "text/plain": [
       "RandomForestClassifier(bootstrap=True, class_weight=None, criterion='gini',\n",
       "            max_depth=None, max_features='auto', max_leaf_nodes=None,\n",
       "            min_impurity_decrease=0.0, min_impurity_split=None,\n",
       "            min_samples_leaf=1, min_samples_split=2,\n",
       "            min_weight_fraction_leaf=0.0, n_estimators=10, n_jobs=None,\n",
       "            oob_score=False, random_state=None, verbose=0,\n",
       "            warm_start=False)"
      ]
     },
     "execution_count": 166,
     "metadata": {},
     "output_type": "execute_result"
    }
   ],
   "source": [
    "RFC = RandomForestClassifier()\n",
    "RFC.fit(X_train_cats_expanded, y_true)"
   ]
  },
  {
   "cell_type": "code",
   "execution_count": 167,
   "metadata": {},
   "outputs": [
    {
     "data": {
      "text/plain": [
       "0.8871717171717172"
      ]
     },
     "execution_count": 167,
     "metadata": {},
     "output_type": "execute_result"
    }
   ],
   "source": [
    "y_pred = RFC.predict(X_train_cats_expanded)\n",
    "accuracy_score(y_true, y_pred)"
   ]
  },
  {
   "cell_type": "markdown",
   "metadata": {},
   "source": [
    "# RFC + Target"
   ]
  },
  {
   "cell_type": "code",
   "execution_count": 168,
   "metadata": {},
   "outputs": [
    {
     "name": "stderr",
     "output_type": "stream",
     "text": [
      "/anaconda3/envs/sandbox/lib/python3.6/site-packages/sklearn/ensemble/forest.py:246: FutureWarning: The default value of n_estimators will change from 10 in version 0.20 to 100 in 0.22.\n",
      "  \"10 in version 0.20 to 100 in 0.22.\", FutureWarning)\n"
     ]
    },
    {
     "data": {
      "text/plain": [
       "RandomForestClassifier(bootstrap=True, class_weight=None, criterion='gini',\n",
       "            max_depth=None, max_features='auto', max_leaf_nodes=None,\n",
       "            min_impurity_decrease=0.0, min_impurity_split=None,\n",
       "            min_samples_leaf=1, min_samples_split=2,\n",
       "            min_weight_fraction_leaf=0.0, n_estimators=10, n_jobs=None,\n",
       "            oob_score=False, random_state=None, verbose=0,\n",
       "            warm_start=False)"
      ]
     },
     "execution_count": 168,
     "metadata": {},
     "output_type": "execute_result"
    }
   ],
   "source": [
    "RFC = RandomForestClassifier()\n",
    "RFC.fit(X_TE_all, y_true)"
   ]
  },
  {
   "cell_type": "code",
   "execution_count": 169,
   "metadata": {},
   "outputs": [
    {
     "data": {
      "text/plain": [
       "0.8851515151515151"
      ]
     },
     "execution_count": 169,
     "metadata": {},
     "output_type": "execute_result"
    }
   ],
   "source": [
    "y_pred = RFC.predict(X_TE_all)\n",
    "accuracy_score(y_true, y_pred)"
   ]
  },
  {
   "cell_type": "markdown",
   "metadata": {},
   "source": [
    "# RFC + Target + nums"
   ]
  },
  {
   "cell_type": "code",
   "execution_count": 170,
   "metadata": {},
   "outputs": [
    {
     "name": "stderr",
     "output_type": "stream",
     "text": [
      "/anaconda3/envs/sandbox/lib/python3.6/site-packages/sklearn/ensemble/forest.py:246: FutureWarning: The default value of n_estimators will change from 10 in version 0.20 to 100 in 0.22.\n",
      "  \"10 in version 0.20 to 100 in 0.22.\", FutureWarning)\n"
     ]
    },
    {
     "data": {
      "text/plain": [
       "RandomForestClassifier(bootstrap=True, class_weight=None, criterion='gini',\n",
       "            max_depth=None, max_features='auto', max_leaf_nodes=None,\n",
       "            min_impurity_decrease=0.0, min_impurity_split=None,\n",
       "            min_samples_leaf=1, min_samples_split=2,\n",
       "            min_weight_fraction_leaf=0.0, n_estimators=10, n_jobs=None,\n",
       "            oob_score=False, random_state=None, verbose=0,\n",
       "            warm_start=False)"
      ]
     },
     "execution_count": 170,
     "metadata": {},
     "output_type": "execute_result"
    }
   ],
   "source": [
    "RFC = RandomForestClassifier()\n",
    "RFC.fit(X_train[numericals], y_true)"
   ]
  },
  {
   "cell_type": "code",
   "execution_count": 171,
   "metadata": {},
   "outputs": [
    {
     "data": {
      "text/plain": [
       "0.969006734006734"
      ]
     },
     "execution_count": 171,
     "metadata": {},
     "output_type": "execute_result"
    }
   ],
   "source": [
    "y_pred = RFC.predict(X_train[numericals])\n",
    "accuracy_score(y_true, y_pred)"
   ]
  },
  {
   "cell_type": "markdown",
   "metadata": {},
   "source": [
    "# Gridsearch"
   ]
  },
  {
   "cell_type": "code",
   "execution_count": 174,
   "metadata": {},
   "outputs": [
    {
     "name": "stdout",
     "output_type": "stream",
     "text": [
      "Fitting 5 folds for each of 1 candidates, totalling 5 fits\n",
      "[CV]  ................................................................\n"
     ]
    },
    {
     "name": "stderr",
     "output_type": "stream",
     "text": [
      "[Parallel(n_jobs=1)]: Using backend SequentialBackend with 1 concurrent workers.\n",
      "/anaconda3/envs/sandbox/lib/python3.6/site-packages/sklearn/ensemble/forest.py:246: FutureWarning: The default value of n_estimators will change from 10 in version 0.20 to 100 in 0.22.\n",
      "  \"10 in version 0.20 to 100 in 0.22.\", FutureWarning)\n"
     ]
    },
    {
     "name": "stdout",
     "output_type": "stream",
     "text": [
      "[CV] ....................... , score=0.7851190977190472, total=  24.4s\n",
      "[CV]  ................................................................\n"
     ]
    },
    {
     "name": "stderr",
     "output_type": "stream",
     "text": [
      "[Parallel(n_jobs=1)]: Done   1 out of   1 | elapsed:   24.7s remaining:    0.0s\n",
      "/anaconda3/envs/sandbox/lib/python3.6/site-packages/sklearn/ensemble/forest.py:246: FutureWarning: The default value of n_estimators will change from 10 in version 0.20 to 100 in 0.22.\n",
      "  \"10 in version 0.20 to 100 in 0.22.\", FutureWarning)\n"
     ]
    },
    {
     "name": "stdout",
     "output_type": "stream",
     "text": [
      "[CV] ........................ , score=0.782004881743961, total=  25.3s\n",
      "[CV]  ................................................................\n"
     ]
    },
    {
     "name": "stderr",
     "output_type": "stream",
     "text": [
      "[Parallel(n_jobs=1)]: Done   2 out of   2 | elapsed:   50.3s remaining:    0.0s\n",
      "/anaconda3/envs/sandbox/lib/python3.6/site-packages/sklearn/ensemble/forest.py:246: FutureWarning: The default value of n_estimators will change from 10 in version 0.20 to 100 in 0.22.\n",
      "  \"10 in version 0.20 to 100 in 0.22.\", FutureWarning)\n"
     ]
    },
    {
     "name": "stdout",
     "output_type": "stream",
     "text": [
      "[CV] ....................... , score=0.7808080808080808, total=  25.0s\n",
      "[CV]  ................................................................\n"
     ]
    },
    {
     "name": "stderr",
     "output_type": "stream",
     "text": [
      "[Parallel(n_jobs=1)]: Done   3 out of   3 | elapsed:  1.3min remaining:    0.0s\n",
      "/anaconda3/envs/sandbox/lib/python3.6/site-packages/sklearn/ensemble/forest.py:246: FutureWarning: The default value of n_estimators will change from 10 in version 0.20 to 100 in 0.22.\n",
      "  \"10 in version 0.20 to 100 in 0.22.\", FutureWarning)\n"
     ]
    },
    {
     "name": "stdout",
     "output_type": "stream",
     "text": [
      "[CV] ....................... , score=0.7767676767676768, total=  26.4s\n",
      "[CV]  ................................................................\n"
     ]
    },
    {
     "name": "stderr",
     "output_type": "stream",
     "text": [
      "[Parallel(n_jobs=1)]: Done   4 out of   4 | elapsed:  1.7min remaining:    0.0s\n",
      "/anaconda3/envs/sandbox/lib/python3.6/site-packages/sklearn/ensemble/forest.py:246: FutureWarning: The default value of n_estimators will change from 10 in version 0.20 to 100 in 0.22.\n",
      "  \"10 in version 0.20 to 100 in 0.22.\", FutureWarning)\n"
     ]
    },
    {
     "name": "stdout",
     "output_type": "stream",
     "text": [
      "[CV] ....................... , score=0.7824549587472639, total=  29.9s\n"
     ]
    },
    {
     "name": "stderr",
     "output_type": "stream",
     "text": [
      "[Parallel(n_jobs=1)]: Done   5 out of   5 | elapsed:  2.2min remaining:    0.0s\n",
      "[Parallel(n_jobs=1)]: Done   5 out of   5 | elapsed:  2.2min finished\n",
      "/anaconda3/envs/sandbox/lib/python3.6/site-packages/sklearn/ensemble/forest.py:246: FutureWarning: The default value of n_estimators will change from 10 in version 0.20 to 100 in 0.22.\n",
      "  \"10 in version 0.20 to 100 in 0.22.\", FutureWarning)\n"
     ]
    },
    {
     "data": {
      "text/plain": [
       "GridSearchCV(cv=5, error_score='raise-deprecating',\n",
       "       estimator=RandomForestClassifier(bootstrap=True, class_weight=None, criterion='gini',\n",
       "            max_depth=None, max_features='auto', max_leaf_nodes=None,\n",
       "            min_impurity_decrease=0.0, min_impurity_split=None,\n",
       "            min_samples_leaf=1, min_samples_split=2,\n",
       "            min_weight_fraction_leaf=0.0, n_estimators='warn', n_jobs=None,\n",
       "            oob_score=False, random_state=None, verbose=0,\n",
       "            warm_start=False),\n",
       "       fit_params=None, iid='warn', n_jobs=None, param_grid={},\n",
       "       pre_dispatch='2*n_jobs', refit=True, return_train_score='warn',\n",
       "       scoring='accuracy', verbose=10)"
      ]
     },
     "execution_count": 174,
     "metadata": {},
     "output_type": "execute_result"
    }
   ],
   "source": [
    "gs = GridSearchCV(RandomForestClassifier(), cv=5, param_grid={},\n",
    "                  scoring='accuracy', \n",
    "                  verbose=10)\n",
    "\n",
    "gs.fit(X_train_cats_expanded, y_true)"
   ]
  },
  {
   "cell_type": "code",
   "execution_count": 175,
   "metadata": {},
   "outputs": [
    {
     "name": "stdout",
     "output_type": "stream",
     "text": [
      "Fitting 5 folds for each of 1 candidates, totalling 5 fits\n",
      "[CV]  ................................................................\n"
     ]
    },
    {
     "name": "stderr",
     "output_type": "stream",
     "text": [
      "[Parallel(n_jobs=1)]: Using backend SequentialBackend with 1 concurrent workers.\n",
      "/anaconda3/envs/sandbox/lib/python3.6/site-packages/sklearn/ensemble/forest.py:246: FutureWarning: The default value of n_estimators will change from 10 in version 0.20 to 100 in 0.22.\n",
      "  \"10 in version 0.20 to 100 in 0.22.\", FutureWarning)\n"
     ]
    },
    {
     "name": "stdout",
     "output_type": "stream",
     "text": [
      "[CV] ....................... , score=0.7884016496927868, total=   2.0s\n",
      "[CV]  ................................................................\n"
     ]
    },
    {
     "name": "stderr",
     "output_type": "stream",
     "text": [
      "[Parallel(n_jobs=1)]: Done   1 out of   1 | elapsed:    2.5s remaining:    0.0s\n",
      "/anaconda3/envs/sandbox/lib/python3.6/site-packages/sklearn/ensemble/forest.py:246: FutureWarning: The default value of n_estimators will change from 10 in version 0.20 to 100 in 0.22.\n",
      "  \"10 in version 0.20 to 100 in 0.22.\", FutureWarning)\n"
     ]
    },
    {
     "name": "stdout",
     "output_type": "stream",
     "text": [
      "[CV] ....................... , score=0.7832674017338608, total=   2.1s\n",
      "[CV]  ................................................................\n"
     ]
    },
    {
     "name": "stderr",
     "output_type": "stream",
     "text": [
      "[Parallel(n_jobs=1)]: Done   2 out of   2 | elapsed:    5.0s remaining:    0.0s\n",
      "/anaconda3/envs/sandbox/lib/python3.6/site-packages/sklearn/ensemble/forest.py:246: FutureWarning: The default value of n_estimators will change from 10 in version 0.20 to 100 in 0.22.\n",
      "  \"10 in version 0.20 to 100 in 0.22.\", FutureWarning)\n"
     ]
    },
    {
     "name": "stdout",
     "output_type": "stream",
     "text": [
      "[CV] ....................... , score=0.7852693602693602, total=   2.0s\n",
      "[CV]  ................................................................\n"
     ]
    },
    {
     "name": "stderr",
     "output_type": "stream",
     "text": [
      "[Parallel(n_jobs=1)]: Done   3 out of   3 | elapsed:    7.3s remaining:    0.0s\n",
      "/anaconda3/envs/sandbox/lib/python3.6/site-packages/sklearn/ensemble/forest.py:246: FutureWarning: The default value of n_estimators will change from 10 in version 0.20 to 100 in 0.22.\n",
      "  \"10 in version 0.20 to 100 in 0.22.\", FutureWarning)\n"
     ]
    },
    {
     "name": "stdout",
     "output_type": "stream",
     "text": [
      "[CV] ....................... , score=0.7794612794612794, total=   2.3s\n",
      "[CV]  ................................................................\n"
     ]
    },
    {
     "name": "stderr",
     "output_type": "stream",
     "text": [
      "[Parallel(n_jobs=1)]: Done   4 out of   4 | elapsed:   10.0s remaining:    0.0s\n",
      "/anaconda3/envs/sandbox/lib/python3.6/site-packages/sklearn/ensemble/forest.py:246: FutureWarning: The default value of n_estimators will change from 10 in version 0.20 to 100 in 0.22.\n",
      "  \"10 in version 0.20 to 100 in 0.22.\", FutureWarning)\n"
     ]
    },
    {
     "name": "stdout",
     "output_type": "stream",
     "text": [
      "[CV] ....................... , score=0.7840545546388281, total=   1.9s\n"
     ]
    },
    {
     "name": "stderr",
     "output_type": "stream",
     "text": [
      "[Parallel(n_jobs=1)]: Done   5 out of   5 | elapsed:   12.3s remaining:    0.0s\n",
      "[Parallel(n_jobs=1)]: Done   5 out of   5 | elapsed:   12.3s finished\n",
      "/anaconda3/envs/sandbox/lib/python3.6/site-packages/sklearn/ensemble/forest.py:246: FutureWarning: The default value of n_estimators will change from 10 in version 0.20 to 100 in 0.22.\n",
      "  \"10 in version 0.20 to 100 in 0.22.\", FutureWarning)\n"
     ]
    },
    {
     "data": {
      "text/plain": [
       "GridSearchCV(cv=5, error_score='raise-deprecating',\n",
       "       estimator=RandomForestClassifier(bootstrap=True, class_weight=None, criterion='gini',\n",
       "            max_depth=None, max_features='auto', max_leaf_nodes=None,\n",
       "            min_impurity_decrease=0.0, min_impurity_split=None,\n",
       "            min_samples_leaf=1, min_samples_split=2,\n",
       "            min_weight_fraction_leaf=0.0, n_estimators='warn', n_jobs=None,\n",
       "            oob_score=False, random_state=None, verbose=0,\n",
       "            warm_start=False),\n",
       "       fit_params=None, iid='warn', n_jobs=None, param_grid={},\n",
       "       pre_dispatch='2*n_jobs', refit=True, return_train_score='warn',\n",
       "       scoring='accuracy', verbose=10)"
      ]
     },
     "execution_count": 175,
     "metadata": {},
     "output_type": "execute_result"
    }
   ],
   "source": [
    "gs = GridSearchCV(RandomForestClassifier(), cv=5, param_grid={},\n",
    "                  scoring='accuracy', \n",
    "                  verbose=10)\n",
    "\n",
    "gs.fit(X_TE_all, y_true)"
   ]
  },
  {
   "cell_type": "markdown",
   "metadata": {},
   "source": [
    "# Other"
   ]
  },
  {
   "cell_type": "code",
   "execution_count": 72,
   "metadata": {},
   "outputs": [],
   "source": [
    "# # # Use a mapper to apply transformations selectively\n",
    "# mapper = DataFrameMapper(\n",
    "#     [([col], None) for col in other_cols] +\n",
    "#     [([col], RobustScaler()) for col in numericals] +\n",
    "#     [([col], OneHotEncoder()) for col in categoricals]\n",
    "# )\n",
    "\n",
    "# # # Define an estimator and param_grid\n",
    "# pipe = make_pipeline(\n",
    "#     mapper, \n",
    "#     LogisticRegression(solver='lbfgs', multi_class='ovr',\n",
    "#                       max_iter=500))\n"
   ]
  },
  {
   "cell_type": "code",
   "execution_count": null,
   "metadata": {
    "scrolled": true
   },
   "outputs": [],
   "source": [
    "%%time\n",
    "X_tweaked = mapper.fit_transform(X_train[numericals], y_true)"
   ]
  },
  {
   "cell_type": "code",
   "execution_count": 61,
   "metadata": {},
   "outputs": [],
   "source": [
    "pd.DataFrame(X_tweaked, columns=mapper.transformed_names_).head()"
   ]
  },
  {
   "cell_type": "code",
   "execution_count": 62,
   "metadata": {
    "scrolled": true
   },
   "outputs": [
    {
     "name": "stdout",
     "output_type": "stream",
     "text": [
      "CPU times: user 5.84 s, sys: 359 ms, total: 6.2 s\n",
      "Wall time: 4.07 s\n"
     ]
    },
    {
     "data": {
      "text/plain": [
       "Pipeline(memory=None,\n",
       "     steps=[('dataframemapper', DataFrameMapper(default=False, df_out=False,\n",
       "        features=[(['id'], None), (['amount_tsh_trash'], None), (['construction_year_trash'], None), (['gps_height_trash'], None), (['latitude_trash'], None), (['longitude_trash'], None), (['num_private_trash'], None), (['popula...enalty='l2', random_state=None, solver='lbfgs',\n",
       "          tol=0.0001, verbose=0, warm_start=False))])"
      ]
     },
     "execution_count": 62,
     "metadata": {},
     "output_type": "execute_result"
    }
   ],
   "source": [
    "%%time\n",
    "pipe.fit(X_train,y_true)"
   ]
  },
  {
   "cell_type": "code",
   "execution_count": 63,
   "metadata": {},
   "outputs": [
    {
     "data": {
      "text/plain": [
       "0.543080808080808"
      ]
     },
     "execution_count": 63,
     "metadata": {},
     "output_type": "execute_result"
    }
   ],
   "source": [
    "y_pred = pipe.predict(X_train)\n",
    "accuracy_score(y_true, y_pred)"
   ]
  },
  {
   "cell_type": "markdown",
   "metadata": {},
   "source": [
    "Alright, that was the score with all categories except for those that have thousands of possible values and make the final dataframe way too big."
   ]
  },
  {
   "cell_type": "markdown",
   "metadata": {},
   "source": [
    "# Make a submission file"
   ]
  },
  {
   "cell_type": "code",
   "execution_count": null,
   "metadata": {},
   "outputs": [],
   "source": [
    "# Clean up the test dataset\n",
    "test1 = cleanup1(test_features)\n",
    "\n",
    "# Extract the same columns used for training\n",
    "X_test = test1[cols_to_keep]\n",
    "\n",
    "# Run the prediction, using the pipeline fit to the training data\n",
    "y_pred = pipe.predict(X_test)\n",
    "\n",
    "# Make a dataframe with the answers\n",
    "y_submit = pd.DataFrame({'id':test_features['id'],\n",
    "                         'status_group':y_pred} )\n",
    "# make a submission CSV file\n",
    "y_submit.to_csv('DMAn.csv', index=False)"
   ]
  }
 ],
 "metadata": {
  "kernelspec": {
   "display_name": "Python 3",
   "language": "python",
   "name": "python3"
  },
  "language_info": {
   "codemirror_mode": {
    "name": "ipython",
    "version": 3
   },
   "file_extension": ".py",
   "mimetype": "text/x-python",
   "name": "python",
   "nbconvert_exporter": "python",
   "pygments_lexer": "ipython3",
   "version": "3.6.7"
  }
 },
 "nbformat": 4,
 "nbformat_minor": 2
}
